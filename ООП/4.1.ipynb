{
 "cells": [
  {
   "cell_type": "code",
   "execution_count": 129,
   "outputs": [],
   "source": [
    "\n",
    "class Vehicle:\n",
    "    def __init__(self, name, max_speed, mileage):\n",
    "        self.name = name\n",
    "        self.max_speed = max_speed\n",
    "        self.mileage = mileage\n",
    "\n",
    "    def display_info(self):\n",
    "        print(f'Vehicle Name: {self.name}, Speed: {self.max_speed}, Mileage: {self.mileage}')\n",
    "\n",
    "\n",
    "class Bus(Vehicle):\n",
    "    pass"
   ],
   "metadata": {
    "collapsed": false
   }
  },
  {
   "cell_type": "code",
   "execution_count": 130,
   "outputs": [],
   "source": [
    "class Person:\n",
    "    def __init__(self, name):\n",
    "        self.name = name\n",
    "\n",
    "    def get_name(self):\n",
    "        return self.name\n",
    "\n",
    "    def is_employee(self):\n",
    "        return False\n",
    "\n",
    "\n",
    "class Employee(Person):\n",
    "    @staticmethod\n",
    "    def is_employee(self):\n",
    "        return True"
   ],
   "metadata": {
    "collapsed": false
   }
  },
  {
   "cell_type": "code",
   "execution_count": 131,
   "outputs": [],
   "source": [
    "class NewInt(int):\n",
    "\n",
    "    def repeat(self, value: int = 2):\n",
    "        return int(str(self) * value)\n",
    "\n",
    "    def to_bin(self):\n",
    "        return int(bin(self)[2:])"
   ],
   "metadata": {
    "collapsed": false
   }
  },
  {
   "cell_type": "code",
   "execution_count": 132,
   "outputs": [
    {
     "name": "stdout",
     "output_type": "stream",
     "text": [
      "\n",
      "10000\n"
     ]
    }
   ],
   "source": [
    "a = NewInt(16)\n",
    "print()\n",
    "print(a.to_bin())\n",
    "# Кстати, как вы думаете, что вернет данный вызов NewInt() ?"
   ],
   "metadata": {
    "collapsed": false
   }
  },
  {
   "cell_type": "code",
   "execution_count": 133,
   "outputs": [],
   "source": [
    "class Person:\n",
    "    def __init__(self, name, passport):\n",
    "        self.name = name\n",
    "        self.passport = passport\n",
    "\n",
    "    def display(self):\n",
    "        print(f'{self.name}: {self.passport}')\n",
    "\n",
    "\n",
    "class Employee(Person):\n",
    "    def __init__(self, name, passport, salary, department):\n",
    "        super().__init__(name, passport)\n",
    "        self.salary = salary\n",
    "        self.department = department\n"
   ],
   "metadata": {
    "collapsed": false
   }
  },
  {
   "cell_type": "code",
   "execution_count": 134,
   "outputs": [
    {
     "name": "stdout",
     "output_type": "stream",
     "text": [
      "Raul: 886012\n"
     ]
    }
   ],
   "source": [
    "a = Employee('Raul', 886012, 200000, \"QA\")\n",
    "\n",
    "a.display()  # печатает \"Raul: 886012\""
   ],
   "metadata": {
    "collapsed": false
   }
  },
  {
   "cell_type": "code",
   "execution_count": 135,
   "outputs": [],
   "source": [
    "class Vehicle:\n",
    "    def __init__(self, name, mileage, capacity):\n",
    "        self.name = name\n",
    "        self.mileage = mileage\n",
    "        self.capacity = capacity\n",
    "\n",
    "    def fare(self):\n",
    "        return self.capacity * 100\n",
    "\n",
    "    def display(self):\n",
    "        print(f'Total {self.name} fare is: {self.fare()}')\n",
    "\n",
    "\n",
    "class Bus(Vehicle):\n",
    "    def __init__(self, name, mileage):\n",
    "        super().__init__(name, mileage, 50)\n",
    "\n",
    "    def fare(self):\n",
    "        return float(self.capacity * 110)\n",
    "\n",
    "\n",
    "class Taxi(Vehicle):\n",
    "    def __init__(self, name, mileage):\n",
    "        super().__init__(name, mileage, 4)\n",
    "\n",
    "    def fare(self):\n",
    "        return float(self.capacity * 135)"
   ],
   "metadata": {
    "collapsed": false
   }
  },
  {
   "cell_type": "code",
   "execution_count": 136,
   "outputs": [
    {
     "name": "stdout",
     "output_type": "stream",
     "text": [
      "Total Scooter fare is: 200\n",
      "Total Mercedes fare is: 5500.0\n",
      "Total Volkswagen Polo fare is: 540.0\n"
     ]
    }
   ],
   "source": [
    "sc = Vehicle('Scooter', 100, 2)\n",
    "sc.display()\n",
    "\n",
    "merc = Bus(\"Mercedes\", 120000)\n",
    "merc.display()\n",
    "\n",
    "polo = Taxi(\"Volkswagen Polo\", 15000)\n",
    "polo.display()"
   ],
   "metadata": {
    "collapsed": false
   }
  },
  {
   "cell_type": "code",
   "execution_count": 184,
   "outputs": [],
   "source": [
    "class Transport:\n",
    "    def __init__(self, brand, max_speed, kind=None):\n",
    "        self.brand = brand\n",
    "        self.max_speed = max_speed\n",
    "        self.kind = kind\n",
    "\n",
    "    def __str__(self):\n",
    "        return f'Тип транспорта {self.kind} марки {self.brand} может развить скорость {self.max_speed} км/ч'\n",
    "\n",
    "\n",
    "class Car(Transport):\n",
    "    def __init__(self, brand, max_speed, mileage, gasoline_residue):\n",
    "        super().__init__(brand, max_speed)\n",
    "        self.kind = 'Car'\n",
    "        self.mileage = mileage\n",
    "        self.__gasoline_residue = gasoline_residue\n",
    "\n",
    "    @property\n",
    "    def gasoline(self):\n",
    "        return f'Осталось бензина на {self.__gasoline_residue} км'\n",
    "\n",
    "    @gasoline.setter\n",
    "    def gasoline(self, value):\n",
    "        if isinstance(value, int):\n",
    "            self.__gasoline_residue += value\n",
    "            print(f'Объем топлива увеличен на {value} л и составляет {self.__gasoline_residue} л')\n",
    "        else:\n",
    "            print('Ошибка заправки автомобиля')\n",
    "\n",
    "\n",
    "class Boat(Transport):\n",
    "    def __init__(self, brand, max_speed, owners_name):\n",
    "        super().__init__(brand, max_speed)\n",
    "        self.kind = 'Boat'\n",
    "        self.owners_name = owners_name\n",
    "\n",
    "    def __str__(self):\n",
    "        return f'Этой лодкой марки {self.brand} владеет {self.owners_name}'\n",
    "\n",
    "\n",
    "class Plane(Transport):\n",
    "    def __init__(self, brand, max_speed, capacity):\n",
    "        super().__init__(brand, max_speed)\n",
    "        self.kind = 'Plane'\n",
    "        self.capacity = capacity\n",
    "\n",
    "    def __str__(self):\n",
    "        return f'Самолет марки {self.brand} вмещает в себя {self.capacity} людей'"
   ],
   "metadata": {
    "collapsed": false
   }
  },
  {
   "cell_type": "code",
   "execution_count": 186,
   "outputs": [
    {
     "name": "stdout",
     "output_type": "stream",
     "text": [
      "Тип транспорта None марки Telega может развить скорость 10 км/ч\n",
      "Тип транспорта bike марки shkolnik может развить скорость 20 км/ч\n",
      "Самолет марки Virgin Atlantic вмещает в себя 450 людей\n",
      "Тип транспорта Car марки BMW может развить скорость 230 км/ч\n",
      "Осталось бензина на 300 км\n",
      "Объем топлива увеличен на 20 л и составляет 320 л\n",
      "Осталось бензина на 320 км\n",
      "Ошибка заправки автомобиля\n",
      "Этой лодкой марки Yamaha владеет Petr\n"
     ]
    }
   ],
   "source": [
    "transport = Transport('Telega', 10)\n",
    "print(transport)  # Тип транспорта None марки Telega может развить скорость 10 км/ч\n",
    "bike = Transport('shkolnik', 20, 'bike')\n",
    "print(bike)  # Тип транспорта bike марки shkolnik может развить скорость 20 км/ч\n",
    "\n",
    "first_plane = Plane('Virgin Atlantic', 700, 450)\n",
    "print(first_plane)  # Самолет марки Virgin Atlantic вмещает в себя 450 людей\n",
    "first_car = Car('BMW', 230, 75000, 300)\n",
    "print(first_car)  # Тип транспорта Car марки BMW может развить скорость 230 км/ч\n",
    "print(first_car.gasoline)  # Осталось бензина на 300 км\n",
    "first_car.gasoline = 20  # Печатает 'Объем топлива увеличен на 20 л и составляет 320 л'\n",
    "print(first_car.gasoline)  # Осталось бензина на 320 км\n",
    "second_car = Car('Audi', 230, 70000, 130)\n",
    "second_car.gasoline = [None]  # Печатает 'Ошибка заправки автомобиля'\n",
    "first_boat = Boat('Yamaha', 40, 'Petr')\n",
    "print(first_boat)  # Этой лодкой марки Yamaha владеет Petr"
   ],
   "metadata": {
    "collapsed": false
   }
  },
  {
   "cell_type": "code",
   "execution_count": 193,
   "outputs": [],
   "source": [
    "class Initialization:\n",
    "    def __init__(self, capacity: int, food: list):\n",
    "        if isinstance(capacity, int):\n",
    "            self.capacity = capacity\n",
    "            self.food = food\n",
    "        else:\n",
    "            print('Количество людей должно быть целым числом')\n",
    "\n",
    "\n",
    "class Vegetarian(Initialization):\n",
    "    def __init__(self, capacity, food):\n",
    "        super().__init__(capacity, food)\n",
    "\n",
    "    def __str__(self):\n",
    "        return f'{self.capacity} людей предпочитают не есть мясо! Они предпочитают {self.food}'\n",
    "\n",
    "\n",
    "class MeatEater(Initialization):\n",
    "    def __init__(self, capacity, food):\n",
    "        super().__init__(capacity, food)\n",
    "\n",
    "    def __str__(self):\n",
    "        return f'{self.capacity} мясоедов в Москве! Помимо мяса они едят еще и {self.food}'\n",
    "\n",
    "\n",
    "class SweetTooth(Initialization):\n",
    "    def __init__(self, capacity, food):\n",
    "        super().__init__(capacity, food)\n",
    "\n",
    "    def __str__(self):\n",
    "        return f'Сладкоежек в Москве {self.capacity}. Их самая любимая еда: {self.food}'\n",
    "\n",
    "    def __eq__(self, other):\n",
    "        if isinstance(other, int):\n",
    "            return self.capacity == other\n",
    "        elif isinstance(other, (Vegetarian, MeatEater)):\n",
    "            return self.capacity == other.capacity\n",
    "        else:\n",
    "            return f'Невозможно сравнить количество сладкоежек с {other}'\n",
    "\n",
    "    def __lt__(self, other):\n",
    "        if isinstance(other, int):\n",
    "            return self.capacity < other\n",
    "        elif isinstance(other, (Vegetarian, MeatEater)):\n",
    "            return self.capacity < other.capacity\n",
    "        else:\n",
    "            return f'Невозможно сравнить количество сладкоежек с {other}'\n",
    "\n",
    "    def __gt__(self, other):\n",
    "        if isinstance(other, int):\n",
    "            return self.capacity > other\n",
    "        elif isinstance(other, (Vegetarian, MeatEater)):\n",
    "            return self.capacity > other.capacity\n",
    "        else:\n",
    "            return f'Невозможно сравнить количество сладкоежек с {other}'\n"
   ],
   "metadata": {
    "collapsed": false
   }
  },
  {
   "cell_type": "code",
   "execution_count": 192,
   "outputs": [
    {
     "name": "stdout",
     "output_type": "stream",
     "text": [
      "10000 людей предпочитают не есть мясо! Они предпочитают ['Орехи', 'овощи', 'фрукты']\n",
      "Количество людей должно быть целым числом\n",
      "15000 мясоедов в Москве! Помимо мяса они едят еще и ['Жареную картошку', 'рыба']\n",
      "Сладкоежек в Москве 30000. Их самая любимая еда: ['Мороженое', 'Чипсы', 'ШОКОЛАД']\n",
      "True\n",
      "True\n",
      "False\n",
      "False\n",
      "True\n"
     ]
    }
   ],
   "source": [
    "v_first = Vegetarian(10000, ['Орехи', 'овощи', 'фрукты'])\n",
    "print(v_first)  # 10000 людей предпочитают не есть мясо! Они предпочитают ['Орехи', 'овощи', 'фрукты']\n",
    "v_second = Vegetarian([23], ['nothing'])  # Количество людей должно быть целым числом\n",
    "m_first = MeatEater(15000, ['Жареную картошку', 'рыба'])\n",
    "print(m_first)  # 15000 мясоедов в Москве! Помимо мяса они едят еще и ['Жареную картошку', 'рыба']\n",
    "s_first = SweetTooth(30000, ['Мороженое', 'Чипсы', 'ШОКОЛАД'])\n",
    "print(s_first)  # Сладкоежек в Москве 30000. Их самая любимая еда: ['Мороженое', 'Чипсы', 'ШОКОЛАД']\n",
    "print(s_first > v_first)  # True\n",
    "print(30000 == s_first)  # True\n",
    "print(s_first == 25000)  # False\n",
    "print(100000 < s_first)  # False\n",
    "print(100 < s_first)  # True"
   ],
   "metadata": {
    "collapsed": false
   }
  },
  {
   "cell_type": "code",
   "execution_count": 208,
   "outputs": [],
   "source": [
    "class Person:\n",
    "    def __init__(self, name, age):\n",
    "        self.name = name\n",
    "        self.age = age\n",
    "\n",
    "    def display_person_info(self):\n",
    "        print(f'Person: {self.name}, {self.age}')\n",
    "\n",
    "\n",
    "class Company:\n",
    "    def __init__(self, company_name, location):\n",
    "        self.company_name = company_name\n",
    "        self.location = location\n",
    "\n",
    "    def display_company_info(self):\n",
    "        print(f'Company: {self.company_name}, {self.location}')\n",
    "\n",
    "\n",
    "class Employee(Person, Company):\n",
    "    def __init__(self, name, age, company_name, location):\n",
    "        super().__init__(name, age)\n",
    "        Company.__init__(self, company_name, location)\n"
   ],
   "metadata": {
    "collapsed": false
   }
  },
  {
   "cell_type": "code",
   "execution_count": 209,
   "outputs": [
    {
     "name": "stdout",
     "output_type": "stream",
     "text": [
      "Person: Jessica, 28\n",
      "Company: Google, Atlanta\n"
     ]
    }
   ],
   "source": [
    "emp = Employee('Jessica', 28, 'Google', 'Atlanta')\n",
    "emp.display_person_info()\n",
    "emp.display_company_info()"
   ],
   "metadata": {
    "collapsed": false
   }
  },
  {
   "cell_type": "code",
   "execution_count": null,
   "outputs": [],
   "source": [
    "def get_mro(cls):\n",
    "    print(*[c.__name__ for c in cls.mro()], sep=' -> ')"
   ],
   "metadata": {
    "collapsed": false
   }
  },
  {
   "cell_type": "code",
   "execution_count": null,
   "outputs": [],
   "source": [
    "# Думаю, такой вопрос имеет место на собеседовании. Вас могут попросить привести пример иерархии классов, не поддающихся линеаризации по стандартному алгоритму. Вот первый неразрешимый пример:\n",
    "\n",
    "class X: ...\n",
    "\n",
    "\n",
    "class Y: ...\n",
    "\n",
    "\n",
    "class A(X, Y): ...\n",
    "\n",
    "\n",
    "class B(Y, X): ...\n",
    "\n",
    "\n",
    "class G(A, B): ...\n",
    "\n",
    "\n",
    "# Для A порядок X -> Y, а для B – обратный Y -> X. Класс G обязан удовлетворить обоим порядкам наследования, что невозможно, так как они противоречат друг другу. Возникнет ошибка в строке объявления класса G:\n",
    "\n",
    "class G(A, B): ...\n",
    "\n",
    "\n",
    "# TypeError: Cannot create a consistent method resolution\n",
    "# order (MRO) for bases X, Y\n",
    "\n",
    "# Или вот второй пример:\n",
    "\n",
    "class X: ...\n",
    "\n",
    "\n",
    "class Y(X): ...\n",
    "\n",
    "\n",
    "class A(X, Y): ...\n",
    "\n",
    "# Здесь класс X наследуется дважды, и куда мы его не поместили в цепочке MRO, он либо нарушит правило старшинства (A -> X -> Y -> object), либо порядка наследования (A -> Y -> X -> object)."
   ],
   "metadata": {
    "collapsed": false
   }
  },
  {
   "cell_type": "code",
   "execution_count": 220,
   "outputs": [
    {
     "ename": "TypeError",
     "evalue": "Cannot create a consistent method resolution\norder (MRO) for bases A, B",
     "output_type": "error",
     "traceback": [
      "\u001B[1;31m---------------------------------------------------------------------------\u001B[0m",
      "\u001B[1;31mTypeError\u001B[0m                                 Traceback (most recent call last)",
      "Cell \u001B[1;32mIn[220], line 13\u001B[0m\n\u001B[0;32m      8\u001B[0m     \u001B[38;5;129m@staticmethod\u001B[39m\n\u001B[0;32m      9\u001B[0m     \u001B[38;5;28;01mdef\u001B[39;00m \u001B[38;5;21mm\u001B[39m():\n\u001B[0;32m     10\u001B[0m         \u001B[38;5;28mprint\u001B[39m(\u001B[38;5;124m'\u001B[39m\u001B[38;5;124mB\u001B[39m\u001B[38;5;124m'\u001B[39m)\n\u001B[1;32m---> 13\u001B[0m \u001B[38;5;28;01mclass\u001B[39;00m \u001B[38;5;21;01mC\u001B[39;00m(A, B):\n\u001B[0;32m     14\u001B[0m     \u001B[38;5;28;01mpass\u001B[39;00m\n\u001B[0;32m     17\u001B[0m test \u001B[38;5;241m=\u001B[39m C()\n",
      "\u001B[1;31mTypeError\u001B[0m: Cannot create a consistent method resolution\norder (MRO) for bases A, B"
     ]
    }
   ],
   "source": [
    "class A:\n",
    "    @staticmethod\n",
    "    def m():\n",
    "        print('A')\n",
    "\n",
    "\n",
    "class B(A):\n",
    "    @staticmethod\n",
    "    def m():\n",
    "        print('B')\n",
    "\n",
    "\n",
    "class C(A, B):\n",
    "    pass\n",
    "\n",
    "\n",
    "test = C()\n",
    "\n",
    "test.m()"
   ],
   "metadata": {
    "collapsed": false
   }
  }
 ],
 "metadata": {
  "kernelspec": {
   "display_name": "Python 3",
   "language": "python",
   "name": "python3"
  },
  "language_info": {
   "codemirror_mode": {
    "name": "ipython",
    "version": 2
   },
   "file_extension": ".py",
   "mimetype": "text/x-python",
   "name": "python",
   "nbconvert_exporter": "python",
   "pygments_lexer": "ipython2",
   "version": "2.7.6"
  }
 },
 "nbformat": 4,
 "nbformat_minor": 0
}
