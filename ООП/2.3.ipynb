{
 "cells": [
  {
   "cell_type": "code",
   "execution_count": 3,
   "metadata": {
    "collapsed": true
   },
   "outputs": [],
   "source": [
    "class Dog():\n",
    "    def __init__(self, name, age):\n",
    "        self.name = name\n",
    "        self.age = age\n",
    "\n",
    "    def description(self):\n",
    "        return f'{self.name} is {self.age} years old'\n",
    "\n",
    "    def speak(self, sound):\n",
    "        return f'{self.name} says {sound}'"
   ]
  },
  {
   "cell_type": "code",
   "execution_count": 4,
   "outputs": [
    {
     "name": "stdout",
     "output_type": "stream",
     "text": [
      "Jack is 4 years old\n",
      "Jack says Woof Woof\n",
      "Jack says Bow Wow\n"
     ]
    }
   ],
   "source": [
    "jack = Dog(\"Jack\", 4)\n",
    "\n",
    "print(jack.description())  # распечатает 'Jack is 4 years old'\n",
    "print(jack.speak(\"Woof Woof\"))  # распечатает 'Jack says Woof Woof'\n",
    "print(jack.speak(\"Bow Wow\"))  # распечатает 'Jack says Bow Wow'"
   ],
   "metadata": {
    "collapsed": false
   }
  },
  {
   "cell_type": "code",
   "execution_count": 43,
   "outputs": [],
   "source": [
    "class Stack():\n",
    "    def __init__(self):\n",
    "        self.values = []\n",
    "\n",
    "    def push(self, item):\n",
    "        self.values.append(item)\n",
    "\n",
    "    def pop(self):\n",
    "        try:\n",
    "            return self.values.pop()\n",
    "        except:\n",
    "            print('Empty Stack')\n",
    "\n",
    "    def peek(self):\n",
    "        try:\n",
    "            return self.values[-1]\n",
    "        except:\n",
    "            print('Empty Stack')\n",
    "            return None\n",
    "\n",
    "    def is_empty(self) -> bool:\n",
    "        return not self.values\n",
    "\n",
    "    def size(self) -> int:\n",
    "        return len(self.values)"
   ],
   "metadata": {
    "collapsed": false
   }
  },
  {
   "cell_type": "code",
   "execution_count": 44,
   "outputs": [
    {
     "name": "stdout",
     "output_type": "stream",
     "text": [
      "Empty Stack\n",
      "True\n",
      "dog\n",
      "3\n",
      "False\n",
      "777\n",
      "True\n",
      "2\n"
     ]
    }
   ],
   "source": [
    "s = Stack()\n",
    "s.peek()  # распечатает 'Empty Stack'\n",
    "print(s.is_empty())  # распечатает True\n",
    "s.push('cat')  # кладем элемент 'cat' на вершину стека\n",
    "s.push('dog')  # кладем элемент 'dog' на вершину стека\n",
    "print(s.peek())  # распечатает 'dog'\n",
    "s.push(True)  # кладем элемент True на вершину стека\n",
    "print(s.size())  # распечатает 3\n",
    "print(s.is_empty())  # распечатает False\n",
    "s.push(777)  # кладем элемент 777 на вершину стека\n",
    "print(s.pop())  # удаляем элемент 777 с вершины стека и печатаем его\n",
    "print(s.pop())  # удаляем элемент True с вершины стека и печатаем его\n",
    "print(s.size())  # распечатает 2"
   ],
   "metadata": {
    "collapsed": false
   }
  },
  {
   "cell_type": "code",
   "execution_count": 47,
   "outputs": [],
   "source": [
    "class Worker():\n",
    "    def __init__(self, name, salary, gender, passport):\n",
    "        self.name = name\n",
    "        self.salary = salary\n",
    "        self.gender = gender\n",
    "        self.passport = passport\n",
    "\n",
    "    def get_info(self):\n",
    "        print(f'Worker {self.name}; passport-{self.passport}')\n"
   ],
   "metadata": {
    "collapsed": false
   }
  },
  {
   "cell_type": "code",
   "execution_count": 48,
   "outputs": [],
   "source": [
    "persons = [\n",
    "    ('Allison Hill', 334053, 'M', '1635644202'),\n",
    "    ('Megan Mcclain', 191161, 'F', '2101101595'),\n",
    "    ('Brandon Hall', 731262, 'M', '6054749119'),\n",
    "    ('Michelle Miles', 539898, 'M', '1355368461'),\n",
    "    ('Donald Booth', 895667, 'M', '7736670978'),\n",
    "    ('Gina Moore', 900581, 'F', '7018476624'),\n",
    "    ('James Howard', 460663, 'F', '5461900982'),\n",
    "    ('Monica Herrera', 496922, 'M', '2955495768'),\n",
    "    ('Sandra Montgomery', 479201, 'M', '5111859731'),\n",
    "    ('Amber Perez', 403445, 'M', '0602870126')\n",
    "]"
   ],
   "metadata": {
    "collapsed": false
   }
  },
  {
   "cell_type": "code",
   "execution_count": 50,
   "outputs": [
    {
     "name": "stdout",
     "output_type": "stream",
     "text": [
      "Worker Allison Hill; passport-1635644202\n",
      "Worker Megan Mcclain; passport-2101101595\n",
      "Worker Brandon Hall; passport-6054749119\n",
      "Worker Michelle Miles; passport-1355368461\n",
      "Worker Donald Booth; passport-7736670978\n",
      "Worker Gina Moore; passport-7018476624\n",
      "Worker James Howard; passport-5461900982\n",
      "Worker Monica Herrera; passport-2955495768\n",
      "Worker Sandra Montgomery; passport-5111859731\n",
      "Worker Amber Perez; passport-0602870126\n"
     ]
    }
   ],
   "source": [
    "worker_objects = []\n",
    "for person in persons:\n",
    "    worker_objects.append(Worker(*person))\n",
    "\n",
    "for worker in worker_objects:\n",
    "    worker.get_info()\n"
   ],
   "metadata": {
    "collapsed": false
   }
  },
  {
   "cell_type": "code",
   "execution_count": 60,
   "outputs": [],
   "source": [
    "class CustomLabel():\n",
    "    def __init__(self, text, **kwargs):\n",
    "        self.text = text\n",
    "        self.config(**kwargs)\n",
    "\n",
    "    def config(self, **kwargs):\n",
    "        self.__dict__.update(kwargs)"
   ],
   "metadata": {
    "collapsed": false
   }
  },
  {
   "cell_type": "code",
   "execution_count": 62,
   "outputs": [
    {
     "name": "stdout",
     "output_type": "stream",
     "text": [
      "{'text': 'Hello', 'bd': 20, 'bg': '#ffaaaa'}\n",
      "{'text': 'Hello', 'bd': 100, 'bg': '#ffaaaa', 'color': 'red'}\n"
     ]
    }
   ],
   "source": [
    "label = CustomLabel(text=\"Hello\", bd=20, bg='#ffaaaa')\n",
    "\n",
    "print(label.__dict__)  # {'text': 'Hello', 'bd': 20, 'bg': '#ffaaaa'}\n",
    "\n",
    "label.config(color='red', bd=100)\n",
    "\n",
    "print(label.__dict__)  # {'text': 'Hello', 'bd': 100, 'bg': '#ffaaaa', 'color': 'red'}"
   ],
   "metadata": {
    "collapsed": false
   }
  },
  {
   "cell_type": "code",
   "execution_count": 69,
   "outputs": [],
   "source": [
    "class Person():\n",
    "    def __init__(self, name, age):\n",
    "        self.name = name\n",
    "        self.age = age\n",
    "\n",
    "    def display_person_info(self):\n",
    "        print(f'Person: {self.name}, {self.age}')\n",
    "\n",
    "\n",
    "class Company():\n",
    "    def __init__(self, company_name, location):\n",
    "        self.company_name = company_name\n",
    "        self.location = location\n",
    "\n",
    "    def display_company_info(self):\n",
    "        print(f'Company: {self.company_name}, {self.location}')\n",
    "\n",
    "\n",
    "class Employee():\n",
    "    def __init__(self, name, age, company_name, location):\n",
    "        self.personal_data = Person(name, age)\n",
    "        self.work = Company(company_name, location)\n"
   ],
   "metadata": {
    "collapsed": false
   }
  },
  {
   "cell_type": "code",
   "execution_count": 70,
   "outputs": [
    {
     "name": "stdout",
     "output_type": "stream",
     "text": [
      "Jessica\n",
      "28\n",
      "Person: Jessica, 28\n",
      "Google\n",
      "Atlanta\n",
      "Company: Google, Atlanta\n"
     ]
    }
   ],
   "source": [
    "emp = Employee('Jessica', 28, 'Google', 'Atlanta')\n",
    "print(emp.personal_data.name)\n",
    "print(emp.personal_data.age)\n",
    "emp.personal_data.display_person_info()\n",
    "print(emp.work.company_name)\n",
    "print(emp.work.location)\n",
    "emp.work.display_company_info()"
   ],
   "metadata": {
    "collapsed": false
   }
  },
  {
   "cell_type": "code",
   "execution_count": 73,
   "outputs": [],
   "source": [
    "class Student():\n",
    "    def __init__(self, name, age, branch):\n",
    "        self.__name = name\n",
    "        self.__age = age\n",
    "        self.__branch = branch\n",
    "\n",
    "    def __display_details(self):\n",
    "        print(f'Имя: {self.__name}')\n",
    "        print(f'Возраст: {self.__age}')\n",
    "        print(f'Направление: {self.__branch}')\n",
    "\n",
    "    def access_private_method(self):\n",
    "        self.__display_details()"
   ],
   "metadata": {
    "collapsed": false
   }
  },
  {
   "cell_type": "code",
   "execution_count": 74,
   "outputs": [
    {
     "name": "stdout",
     "output_type": "stream",
     "text": [
      "Имя: Adam Smith\n",
      "Возраст: 25\n",
      "Напроавление: Information Technology\n"
     ]
    }
   ],
   "source": [
    "obj = Student(\"Adam Smith\", 25, \"Information Technology\")\n",
    "obj.access_private_method()"
   ],
   "metadata": {
    "collapsed": false
   }
  },
  {
   "cell_type": "code",
   "execution_count": 75,
   "outputs": [
    {
     "name": "stdout",
     "output_type": "stream",
     "text": [
      "['_PizzaMaker__make_pepperoni', '__class__', '__delattr__', '__dict__', '__dir__', '__doc__', '__eq__', '__format__', '__ge__', '__getattribute__', '__gt__', '__hash__', '__init__', '__init_subclass__', '__le__', '__lt__', '__module__', '__ne__', '__new__', '__reduce__', '__reduce_ex__', '__repr__', '__setattr__', '__sizeof__', '__str__', '__subclasshook__', '__weakref__', '_make_barbecue']\n"
     ]
    }
   ],
   "source": [
    "class PizzaMaker:\n",
    "    def __make_pepperoni(self):\n",
    "        pass\n",
    "\n",
    "    def _make_barbecue(self):\n",
    "        pass\n",
    "\n",
    "\n",
    "print(dir(PizzaMaker))"
   ],
   "metadata": {
    "collapsed": false
   }
  },
  {
   "cell_type": "code",
   "execution_count": 79,
   "outputs": [],
   "source": [
    "class UserMail():\n",
    "    def __init__(self, login, email):\n",
    "        self.login = login\n",
    "        self.__email = email\n",
    "\n",
    "    def get_email(self):\n",
    "        return self.__email\n",
    "\n",
    "    def set_email(self, email):\n",
    "        if email.count('@') == 1 \\\n",
    "                and '.' in email.split('@')[1] \\\n",
    "                and isinstance(email, str):\n",
    "            self.__email = email\n",
    "        else:\n",
    "            print(f'ErrorMail:{email}')\n",
    "\n",
    "    email = property(get_email, set_email)"
   ],
   "metadata": {
    "collapsed": false
   }
  },
  {
   "cell_type": "code",
   "execution_count": 82,
   "outputs": [
    {
     "name": "stdout",
     "output_type": "stream",
     "text": [
      "prince@wait.you\n",
      "ErrorMail:[1, 2, 3]\n",
      "ErrorMail:prince@still@.wait\n",
      "prince@still.wait\n"
     ]
    }
   ],
   "source": [
    "k = UserMail('belosnezhka', 'prince@wait.you')\n",
    "print(k.email)  # prince@wait.you\n",
    "k.email = [1, 2, 3] # ErrorMail:[1, 2, 3]\n",
    "k.email = 'prince@still@.wait'  # ErrorMail:prince@still@.wait\n",
    "k.email = 'prince@still.wait'\n",
    "print(k.email)  # prince@still.wait"
   ],
   "metadata": {
    "collapsed": false
   }
  },
  {
   "cell_type": "code",
   "execution_count": null,
   "outputs": [],
   "source": [],
   "metadata": {
    "collapsed": false
   }
  }
 ],
 "metadata": {
  "kernelspec": {
   "display_name": "Python 3",
   "language": "python",
   "name": "python3"
  },
  "language_info": {
   "codemirror_mode": {
    "name": "ipython",
    "version": 2
   },
   "file_extension": ".py",
   "mimetype": "text/x-python",
   "name": "python",
   "nbconvert_exporter": "python",
   "pygments_lexer": "ipython2",
   "version": "2.7.6"
  }
 },
 "nbformat": 4,
 "nbformat_minor": 0
}
