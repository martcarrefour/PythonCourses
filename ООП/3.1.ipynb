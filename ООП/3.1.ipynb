{
 "cells": [
  {
   "cell_type": "code",
   "execution_count": 155,
   "metadata": {
    "collapsed": true
   },
   "outputs": [],
   "source": [
    "class Person:\n",
    "    def __init__(self, name: str, surname: str, gender: str = 'male'):\n",
    "        self.name = name\n",
    "        self.surname = surname\n",
    "\n",
    "        if gender == 'male' or gender == 'female':\n",
    "            self.gender = gender\n",
    "        else:\n",
    "            print('Не знаю, что вы имели ввиду? Пусть это будет мальчик!')\n",
    "            self.gender = 'male'\n",
    "\n",
    "    def __str__(self):\n",
    "        return f\"{'Гражданин' if self.gender == 'male' else 'Гражданка'} {self.surname} {self.name}\"\n"
   ]
  },
  {
   "cell_type": "code",
   "execution_count": 156,
   "outputs": [
    {
     "name": "stdout",
     "output_type": "stream",
     "text": [
      "Гражданин Norris Chuck\n",
      "Гражданка Kunis Mila\n",
      "Не знаю, что вы имели ввиду? Пусть это будет мальчик!\n",
      "Гражданин Кеноби Оби-Ван\n"
     ]
    }
   ],
   "source": [
    "p1 = Person('Chuck', 'Norris')\n",
    "print(p1)  # печатает \"Гражданин Norris Chuck\"\n",
    "p2 = Person('Mila', 'Kunis', 'female')\n",
    "print(p2)  # печатает \"Гражданка Kunis Mila\"\n",
    "p3 = Person('Оби-Ван', 'Кеноби', True)  # печатает \"Не знаю, что вы имели ввиду? Пусть это будет мальчик!\"\n",
    "print(p3)  # печатает \"Гражданин Кеноби Оби-Ван\""
   ],
   "metadata": {
    "collapsed": false
   }
  },
  {
   "cell_type": "code",
   "execution_count": 157,
   "outputs": [],
   "source": [
    "class Vector:\n",
    "    def __init__(self, *args):\n",
    "        self.values = [i for i in args if isinstance(i, int)]\n",
    "\n",
    "    def __str__(self):\n",
    "        if self.values:\n",
    "            return f'Вектор({\", \".join(map(str, sorted(self.values)))})'\n",
    "        else:\n",
    "            return 'Пустой вектор'"
   ],
   "metadata": {
    "collapsed": false
   }
  },
  {
   "cell_type": "code",
   "execution_count": 158,
   "outputs": [
    {
     "name": "stdout",
     "output_type": "stream",
     "text": [
      "Вектор(1, 2, 3)\n",
      "Пустой вектор\n"
     ]
    }
   ],
   "source": [
    "v1 = Vector(1, 2, 3)\n",
    "print(v1)  # печатает \"Вектор(1, 2, 3)\"\n",
    "v2 = Vector()\n",
    "print(v2)  # печатает \"Пустой вектор\""
   ],
   "metadata": {
    "collapsed": false
   }
  },
  {
   "cell_type": "code",
   "execution_count": 159,
   "outputs": [],
   "source": [
    "class Vector:\n",
    "    def __init__(self, *args):\n",
    "        self.values = sorted([i for i in args if isinstance(i, int)])\n",
    "\n",
    "    def __str__(self):\n",
    "        if self.values:\n",
    "            return f'Вектор({\", \".join([i for i in self.values])})'\n",
    "        else:\n",
    "            return 'Пустой вектор'\n",
    "\n",
    "    def __add__(self, other):\n",
    "        if isinstance(other, int):\n",
    "            return Vector(*[i + other for i in self.values])\n",
    "        elif isinstance(other, Vector):\n",
    "            if len(other.values) == len(self.values):\n",
    "                return Vector(*[sum(x, y) for x, y in zip(other.values, self.values)]\n",
    "                              )\n",
    "            else:\n",
    "                print('Сложение векторов разной длины недопустимо')\n",
    "        else:\n",
    "            print(f'Вектор нельзя сложить с {other}')\n",
    "\n",
    "    def __mul__(self, other):\n",
    "        if isinstance(other, int):\n",
    "            return Vector(*[i * other for i in self.values])\n",
    "        elif isinstance(other, Vector):\n",
    "            if len(other.values) == len(self.values):\n",
    "                return Vector(*[x * y for x, y in zip(other.values, self.values)])\n",
    "\n",
    "            else:\n",
    "                print('Умножение векторов разной длины недопустимо')\n",
    "        else:\n",
    "            print(f'Вектор нельзя умножать с {other}')"
   ],
   "metadata": {
    "collapsed": false
   }
  },
  {
   "cell_type": "code",
   "execution_count": 160,
   "outputs": [
    {
     "ename": "TypeError",
     "evalue": "sequence item 0: expected str instance, int found",
     "output_type": "error",
     "traceback": [
      "\u001B[1;31m---------------------------------------------------------------------------\u001B[0m",
      "\u001B[1;31mTypeError\u001B[0m                                 Traceback (most recent call last)",
      "Cell \u001B[1;32mIn[160], line 2\u001B[0m\n\u001B[0;32m      1\u001B[0m v1 \u001B[38;5;241m=\u001B[39m Vector(\u001B[38;5;241m1\u001B[39m, \u001B[38;5;241m2\u001B[39m, \u001B[38;5;241m3\u001B[39m)\n\u001B[1;32m----> 2\u001B[0m \u001B[38;5;28;43mprint\u001B[39;49m\u001B[43m(\u001B[49m\u001B[43mv1\u001B[49m\u001B[43m)\u001B[49m  \u001B[38;5;66;03m# печатает \"Вектор(1, 2, 3)\"\u001B[39;00m\n\u001B[0;32m      4\u001B[0m v2 \u001B[38;5;241m=\u001B[39m Vector(\u001B[38;5;241m3\u001B[39m, \u001B[38;5;241m4\u001B[39m, \u001B[38;5;241m5\u001B[39m)\n\u001B[0;32m      5\u001B[0m \u001B[38;5;28mprint\u001B[39m(v2)  \u001B[38;5;66;03m# печатает \"Вектор(3, 4, 5)\"\u001B[39;00m\n",
      "Cell \u001B[1;32mIn[159], line 7\u001B[0m, in \u001B[0;36mVector.__str__\u001B[1;34m(self)\u001B[0m\n\u001B[0;32m      5\u001B[0m \u001B[38;5;28;01mdef\u001B[39;00m \u001B[38;5;21m__str__\u001B[39m(\u001B[38;5;28mself\u001B[39m):\n\u001B[0;32m      6\u001B[0m     \u001B[38;5;28;01mif\u001B[39;00m \u001B[38;5;28mself\u001B[39m\u001B[38;5;241m.\u001B[39mvalues:\n\u001B[1;32m----> 7\u001B[0m         \u001B[38;5;28;01mreturn\u001B[39;00m \u001B[38;5;124mf\u001B[39m\u001B[38;5;124m'\u001B[39m\u001B[38;5;124mВектор(\u001B[39m\u001B[38;5;132;01m{\u001B[39;00m\u001B[38;5;124;43m\"\u001B[39;49m\u001B[38;5;124;43m, \u001B[39;49m\u001B[38;5;124;43m\"\u001B[39;49m\u001B[38;5;241;43m.\u001B[39;49m\u001B[43mjoin\u001B[49m\u001B[43m(\u001B[49m\u001B[43m[\u001B[49m\u001B[43mi\u001B[49m\u001B[43m \u001B[49m\u001B[38;5;28;43;01mfor\u001B[39;49;00m\u001B[43m \u001B[49m\u001B[43mi\u001B[49m\u001B[43m \u001B[49m\u001B[38;5;129;43;01min\u001B[39;49;00m\u001B[43m \u001B[49m\u001B[38;5;28;43mself\u001B[39;49m\u001B[38;5;241;43m.\u001B[39;49m\u001B[43mvalues\u001B[49m\u001B[43m]\u001B[49m\u001B[43m)\u001B[49m\u001B[38;5;132;01m}\u001B[39;00m\u001B[38;5;124m)\u001B[39m\u001B[38;5;124m'\u001B[39m\n\u001B[0;32m      8\u001B[0m     \u001B[38;5;28;01melse\u001B[39;00m:\n\u001B[0;32m      9\u001B[0m         \u001B[38;5;28;01mreturn\u001B[39;00m \u001B[38;5;124m'\u001B[39m\u001B[38;5;124mПустой вектор\u001B[39m\u001B[38;5;124m'\u001B[39m\n",
      "\u001B[1;31mTypeError\u001B[0m: sequence item 0: expected str instance, int found"
     ]
    }
   ],
   "source": [
    "v1 = Vector(1, 2, 3)\n",
    "print(v1)  # печатает \"Вектор(1, 2, 3)\"\n",
    "\n",
    "v2 = Vector(3, 4, 5)\n",
    "print(v2)  # печатает \"Вектор(3, 4, 5)\"\n",
    "v3 = v1 + v2\n",
    "print(v3)  # печатает \"Вектор(4, 6, 8)\"\n",
    "v4 = v3 + 5\n",
    "print(v4)  # печатает \"Вектор(9, 11, 13)\"\n",
    "v5 = v1 * 2\n",
    "print(v5)  # печатает \"Вектор(2, 4, 6)\"\n",
    "v5 + 'hi'  # печатает \"Вектор нельзя сложить с hi\""
   ],
   "metadata": {
    "collapsed": false
   }
  },
  {
   "cell_type": "code",
   "execution_count": null,
   "outputs": [],
   "source": [
    "class ChessPlayer:\n",
    "    def __init__(self, name, surname, rating):\n",
    "        self.name = name\n",
    "        self.surname = surname\n",
    "        self.rating = rating\n",
    "\n",
    "    def __eq__(self, other):\n",
    "        if isinstance(other, ChessPlayer):\n",
    "            return self.rating == other.rating\n",
    "        elif isinstance(other, (float, int)):\n",
    "            return self.rating == other\n",
    "        else:\n",
    "            return 'Невозможно выполнить сравнение'\n",
    "\n",
    "    def __gt__(self, other):\n",
    "        if isinstance(other, ChessPlayer):\n",
    "            return self.rating > other.rating\n",
    "        elif isinstance(other, (float, int)):\n",
    "            return self.rating > other\n",
    "        else:\n",
    "            return 'Невозможно выполнить сравнение'\n",
    "\n",
    "    def __lt__(self, other):\n",
    "        if isinstance(other, ChessPlayer):\n",
    "            return self.rating < other.rating\n",
    "        elif isinstance(other, (float, int)):\n",
    "            return self.rating < other\n",
    "        else:\n",
    "            return 'Невозможно выполнить сравнение'"
   ],
   "metadata": {
    "collapsed": false
   }
  },
  {
   "cell_type": "code",
   "execution_count": null,
   "outputs": [],
   "source": [
    "magnus = ChessPlayer('Carlsen', 'Magnus', 2847)\n",
    "ian = ChessPlayer('Ian', 'Nepomniachtchi', 2789)\n",
    "print(magnus == 4000)  # False\n",
    "print(ian == 2789)  # True\n",
    "print(magnus == ian)  #\n",
    "print(magnus > ian)  # True\n",
    "print(magnus < ian)  # False\n",
    "print(magnus < [1, 2])  # печатает \"Невозможно выполнить сравнениe\"\n"
   ],
   "metadata": {
    "collapsed": false
   }
  },
  {
   "cell_type": "code",
   "execution_count": null,
   "outputs": [],
   "source": [
    "from functools import total_ordering\n",
    "\n",
    "\n",
    "@total_ordering\n",
    "class Account:\n",
    "    def __init__(self, balance):\n",
    "        self.balance = balance\n",
    "\n",
    "    def __eq__(self, other):\n",
    "        return self.balance == other.balance\n",
    "\n",
    "    def __lt__(self, other):\n",
    "        return self.balance < other.balance\n",
    "\n",
    "\n",
    "acc1 = Account(10)\n",
    "acc2 = Account(20)\n",
    "print(acc1 > acc2)\n",
    "print(acc1 < acc2)\n",
    "print(acc1 == acc2)\n",
    "print(acc1 != acc2)\n",
    "print(acc1 >= acc2)\n",
    "print(acc1 <= acc2)"
   ],
   "metadata": {
    "collapsed": false
   }
  },
  {
   "cell_type": "code",
   "execution_count": null,
   "outputs": [],
   "source": [
    "class City:\n",
    "    def __init__(self, name: str):\n",
    "        self.name = name.title()\n",
    "\n",
    "    def __str__(self):\n",
    "        return self.name\n",
    "\n",
    "    def __bool__(self):\n",
    "        return self.name[-1] not in 'aeiou'"
   ],
   "metadata": {
    "collapsed": false
   }
  },
  {
   "cell_type": "code",
   "execution_count": null,
   "outputs": [],
   "source": [
    "p1 = City('new york')\n",
    "print(p1)  # печатает \"New York\"\n",
    "print(bool(p1))  # печатает \"True\"\n",
    "p2 = City('SaN frANCISco')\n",
    "print(p2)  # печатает \"San Francisco\"\n",
    "print(p2 == True)  # печатает \"False\"\n"
   ],
   "metadata": {
    "collapsed": false
   }
  },
  {
   "cell_type": "code",
   "execution_count": null,
   "outputs": [],
   "source": [
    "class Quadrilateral:\n",
    "    def __init__(self, width, height=None):\n",
    "        self.width, self.height = width, height if height else width\n",
    "\n",
    "    def __str__(self):\n",
    "        return f\"{['Прямоугольник', 'Куб'][bool(self)]} размером {self.width}х{self.height}\"\n",
    "\n",
    "    def __bool__(self):\n",
    "        return self.width == self.height\n"
   ],
   "metadata": {
    "collapsed": false
   }
  },
  {
   "cell_type": "code",
   "execution_count": null,
   "outputs": [],
   "source": [
    "q1 = Quadrilateral(10)\n",
    "print(q1)  # печатает \"Куб размером 10х10\"\n",
    "print(bool(q1))  # печатает \"True\"\n",
    "q2 = Quadrilateral(3, 5)\n",
    "print(q2)  # печатает \"Прямоугольник размером 3х5\"\n",
    "print(q2 == True)  # печатает \"False\""
   ],
   "metadata": {
    "collapsed": false
   }
  },
  {
   "cell_type": "code",
   "execution_count": null,
   "outputs": [],
   "source": [
    "class Addition:\n",
    "    def __call__(self, *args: int, **kwargs):\n",
    "        print(f'Сумма переданных значений = {sum([i for i in args if isinstance(i, (float, int))])}')"
   ],
   "metadata": {
    "collapsed": false
   }
  },
  {
   "cell_type": "code",
   "execution_count": null,
   "outputs": [],
   "source": [
    "add = Addition()\n",
    "\n",
    "add(10, 20)  # печатает \"Сумма переданных значений = 30\"\n",
    "add(1, 2, 3.4)  # печатает \"Сумма переданных значений = 6.4\"\n",
    "add(1, 2, 'hello', [1, 2], 3)  # печатает \"Сумма переданных значений = 6\""
   ],
   "metadata": {
    "collapsed": false
   }
  },
  {
   "cell_type": "code",
   "execution_count": null,
   "outputs": [],
   "source": [
    "class Storage:\n",
    "    def __init__(self, func):\n",
    "        self.func = func\n",
    "\n",
    "    def __call__(self):\n",
    "        print(\"Подключение к хранилищу\")\n",
    "        self.func()\n",
    "        print(\"Отключение от хранилища\")\n",
    "\n",
    "\n",
    "@Storage\n",
    "def upload_file():\n",
    "    print(\"Загрузка файла....\")\n",
    "\n",
    "\n",
    "upload_file()"
   ],
   "metadata": {
    "collapsed": false
   }
  },
  {
   "cell_type": "code",
   "execution_count": null,
   "outputs": [],
   "source": [
    "from time import perf_counter\n",
    "\n",
    "\n",
    "class Timer:\n",
    "    def __init__(self, func):\n",
    "        self.func = func\n",
    "\n",
    "    def __call__(self, *args, **kwargs):\n",
    "        start = perf_counter()\n",
    "        self.func()\n",
    "        stop = perf_counter()\n",
    "        print(f'Время работы программы {stop - start}')\n",
    "\n",
    "\n",
    "@Timer\n",
    "def calculate():\n",
    "    for i in range(10000000):\n",
    "        2 ** 100\n",
    "\n",
    "\n",
    "calculate()\n",
    "\n"
   ],
   "metadata": {
    "collapsed": false
   }
  },
  {
   "cell_type": "code",
   "execution_count": null,
   "outputs": [],
   "source": [
    "#Полиморфизм\n",
    "class UnitedKingdom:\n",
    "    @staticmethod\n",
    "    def capital(self):\n",
    "        print('London is the capital of Great Britain.')\n",
    "\n",
    "    @staticmethod\n",
    "    def language(self):\n",
    "        print('English is the primary language of Great Britain.')\n",
    "\n",
    "\n",
    "class Spain:\n",
    "    @staticmethod\n",
    "    def capital(self):\n",
    "        print('Madrid is the capital of Spain.')\n",
    "\n",
    "    @staticmethod\n",
    "    def language(self):\n",
    "        print('Spanish is the primary language of Spain.')\n"
   ],
   "metadata": {
    "collapsed": false
   }
  },
  {
   "cell_type": "code",
   "execution_count": null,
   "outputs": [],
   "source": [
    "class Building:\n",
    "    def __init__(self, floor: int):\n",
    "        self.floors = [None] * floor\n",
    "\n",
    "    def __setitem__(self, key, value):\n",
    "        if 0 <= key < len(self.floors):\n",
    "            self.floors[key] = value\n",
    "        else:\n",
    "            raise IndexError('list index out of range')\n",
    "\n",
    "    def __getitem__(self, key):\n",
    "        return self.floors[key]\n",
    "\n",
    "    def __delitem__(self, key):\n",
    "        if 0 < key < len(self.floors):\n",
    "            self.floors[key] = None\n",
    "        else:\n",
    "            raise IndexError('list index out of range')\n",
    "\n"
   ],
   "metadata": {
    "collapsed": false
   }
  },
  {
   "cell_type": "code",
   "execution_count": null,
   "outputs": [],
   "source": [
    "iron_building = Building(22)  # Создаем здание с 22 этажами\n",
    "iron_building[0] = 'Reception'\n",
    "iron_building[1] = 'Oscorp Industries'\n",
    "iron_building[2] = 'Stark Industries'\n",
    "print(iron_building[2])\n",
    "del iron_building[2]\n",
    "print(iron_building[2])"
   ],
   "metadata": {
    "collapsed": false
   }
  },
  {
   "cell_type": "code",
   "execution_count": 174,
   "outputs": [],
   "source": [
    "class PowerTwo:\n",
    "    def __init__(self, power):\n",
    "        self.power = power\n",
    "\n",
    "    def __iter__(self):\n",
    "        self.index = 0\n",
    "        return self\n",
    "\n",
    "    def __next__(self):\n",
    "        if self.index <= self.power:\n",
    "            res = 2 ** self.index\n",
    "\n",
    "            self.index += 1\n",
    "            return res\n",
    "        else:\n",
    "            raise StopIteration\n"
   ],
   "metadata": {
    "collapsed": false
   }
  },
  {
   "cell_type": "code",
   "execution_count": 177,
   "outputs": [
    {
     "name": "stdout",
     "output_type": "stream",
     "text": [
      "1\n",
      "2\n",
      "4\n",
      "8\n",
      "16\n",
      "32\n",
      "64\n",
      "128\n",
      "256\n"
     ]
    },
    {
     "ename": "StopIteration",
     "evalue": "",
     "output_type": "error",
     "traceback": [
      "\u001B[1;31m---------------------------------------------------------------------------\u001B[0m",
      "\u001B[1;31mStopIteration\u001B[0m                             Traceback (most recent call last)",
      "Cell \u001B[1;32mIn[177], line 12\u001B[0m\n\u001B[0;32m     10\u001B[0m \u001B[38;5;28mprint\u001B[39m(\u001B[38;5;28mnext\u001B[39m(iterator)) \u001B[38;5;66;03m# печатает 4\u001B[39;00m\n\u001B[0;32m     11\u001B[0m \u001B[38;5;28mprint\u001B[39m(\u001B[38;5;28mnext\u001B[39m(iterator)) \u001B[38;5;66;03m# печатает 4\u001B[39;00m\n\u001B[1;32m---> 12\u001B[0m \u001B[38;5;28mprint\u001B[39m(\u001B[38;5;28;43mnext\u001B[39;49m\u001B[43m(\u001B[49m\u001B[43miterator\u001B[49m\u001B[43m)\u001B[49m) \u001B[38;5;66;03m# печатает 4\u001B[39;00m\n\u001B[0;32m     13\u001B[0m \u001B[38;5;28mprint\u001B[39m(\u001B[38;5;28mnext\u001B[39m(iterator)) \u001B[38;5;66;03m# исключение StopIteration\u001B[39;00m\n",
      "Cell \u001B[1;32mIn[174], line 16\u001B[0m, in \u001B[0;36mPowerTwo.__next__\u001B[1;34m(self)\u001B[0m\n\u001B[0;32m     14\u001B[0m     \u001B[38;5;28;01mreturn\u001B[39;00m res\n\u001B[0;32m     15\u001B[0m \u001B[38;5;28;01melse\u001B[39;00m:\n\u001B[1;32m---> 16\u001B[0m     \u001B[38;5;28;01mraise\u001B[39;00m \u001B[38;5;167;01mStopIteration\u001B[39;00m\n",
      "\u001B[1;31mStopIteration\u001B[0m: "
     ]
    }
   ],
   "source": [
    "numbers = PowerTwo(8)\n",
    "iterator = iter(numbers)\n",
    "print(next(iterator))  # печатает 1\n",
    "print(next(iterator))  # печатает 2\n",
    "print(next(iterator))  # печатает 4\n",
    "print(next(iterator))  # печатает 4\n",
    "print(next(iterator))  # печатает 4\n",
    "print(next(iterator))  # печатает 4\n",
    "print(next(iterator))  # печатает 4\n",
    "print(next(iterator))  # печатает 4\n",
    "print(next(iterator))  # печатает 4\n",
    "print(next(iterator))  # печатает 4\n",
    "print(next(iterator))  # исключение StopIteration"
   ],
   "metadata": {
    "collapsed": false
   }
  },
  {
   "cell_type": "code",
   "execution_count": 186,
   "outputs": [],
   "source": [
    "class InfinityIterator:\n",
    "    def __iter__(self):\n",
    "        self.value = 0\n",
    "        return self\n",
    "\n",
    "    def __next__(self):\n",
    "        res = self.value\n",
    "        self.value += 10\n",
    "        return res"
   ],
   "metadata": {
    "collapsed": false
   }
  },
  {
   "cell_type": "code",
   "execution_count": 187,
   "outputs": [
    {
     "data": {
      "text/plain": "30"
     },
     "execution_count": 187,
     "metadata": {},
     "output_type": "execute_result"
    }
   ],
   "source": [
    "a = iter(InfinityIterator())\n",
    "next(a)\n",
    "next(a)\n",
    "next(a)\n",
    "next(a)"
   ],
   "metadata": {
    "collapsed": false
   }
  },
  {
   "cell_type": "code",
   "execution_count": null,
   "outputs": [],
   "source": [],
   "metadata": {
    "collapsed": false
   }
  },
  {
   "cell_type": "code",
   "execution_count": 180,
   "outputs": [],
   "source": [],
   "metadata": {
    "collapsed": false
   }
  }
 ],
 "metadata": {
  "kernelspec": {
   "display_name": "Python 3",
   "language": "python",
   "name": "python3"
  },
  "language_info": {
   "codemirror_mode": {
    "name": "ipython",
    "version": 2
   },
   "file_extension": ".py",
   "mimetype": "text/x-python",
   "name": "python",
   "nbconvert_exporter": "python",
   "pygments_lexer": "ipython2",
   "version": "2.7.6"
  }
 },
 "nbformat": 4,
 "nbformat_minor": 0
}
