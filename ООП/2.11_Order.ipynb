{
 "cells": [
  {
   "cell_type": "code",
   "execution_count": 4,
   "metadata": {
    "collapsed": true
   },
   "outputs": [],
   "source": [
    "class Product:\n",
    "    def __init__(self, name, price):\n",
    "        self.name = name\n",
    "        self.price = price\n",
    "\n",
    "\n",
    "class User:\n",
    "    def __init__(self, login: str, balance: int = 0):\n",
    "        self.login = login\n",
    "        self.balance = balance\n",
    "\n",
    "    def __str__(self):\n",
    "        return f'Пользователь {self.login}, баланс - {self.balance}'\n",
    "\n",
    "    @property\n",
    "    def balance(self):\n",
    "        return self.__balance\n",
    "\n",
    "    @balance.setter\n",
    "    def balance(self, value):\n",
    "        self.__balance = value\n",
    "\n",
    "    def deposit(self, value: int):\n",
    "        self.balance += value\n",
    "\n",
    "    def payment(self, value: int):\n",
    "        if value <= self.balance:\n",
    "            self.balance -= value\n",
    "            return True\n",
    "        else:\n",
    "            print('Не хватает средств на балансе. Пополните счет')\n",
    "            return False"
   ]
  },
  {
   "cell_type": "code",
   "execution_count": 5,
   "outputs": [
    {
     "name": "stdout",
     "output_type": "stream",
     "text": [
      "Пользователь billy@rambler.ru, баланс - 0\n",
      "Пользователь billy@rambler.ru, баланс - 400\n",
      "Не хватает средств на балансе. Пополните счет\n",
      "Пользователь billy@rambler.ru, баланс - 250\n"
     ]
    }
   ],
   "source": [
    "billy = User('billy@rambler.ru')\n",
    "print(billy)  # Пользователь billy@rambler.ru, баланс - 0\n",
    "billy.deposit(100)\n",
    "billy.deposit(300)\n",
    "print(billy)  # Пользователь billy@rambler.ru, баланс - 400\n",
    "billy.payment(500)  # Не хватает средств на балансе. Пополните счет\n",
    "billy.payment(150)\n",
    "print(billy)  # Пользователь billy@rambler.ru, баланс - 250"
   ],
   "metadata": {
    "collapsed": false
   }
  },
  {
   "cell_type": "code",
   "execution_count": 6,
   "outputs": [],
   "source": [
    "from collections import defaultdict\n",
    "\n",
    "\n",
    "class Cart:\n",
    "    def __init__(self, user: User, goods=None):\n",
    "        if goods is None:\n",
    "            goods = defaultdict(int)\n",
    "        self.user = user\n",
    "        self.goods = goods\n",
    "        self.__total = 0\n",
    "\n",
    "    def add(self, product: Product, quantity: int = 1):\n",
    "        self.goods[product] += quantity\n",
    "        self.__total += product.price * quantity\n",
    "\n",
    "    def remove(self, product: Product, quantity: int = 1):\n",
    "        if self.goods[product] > quantity:\n",
    "            self.goods[product] -= quantity\n",
    "            self.__total -= product.price * quantity\n",
    "        else:\n",
    "            self.__total -= (product.price * self.goods[product])\n",
    "            self.goods.pop(product)\n",
    "\n",
    "    @property\n",
    "    def total(self):\n",
    "        return self.__total\n",
    "\n",
    "\n",
    "    def order(self):\n",
    "        if self.user.payment(self.__total):\n",
    "            print('Заказ оплачен')\n",
    "        else:\n",
    "            print('Проблема с оплатой')\n",
    "\n",
    "    def print_check(self):\n",
    "        print('---Your check---')\n",
    "        for k, v in sorted(self.goods.items(), key=lambda x: x[0].name):\n",
    "            print(k.name, k.price, v, k.price * v)\n",
    "        print(f'---Total: {self.__total}---')"
   ],
   "metadata": {
    "collapsed": false
   }
  },
  {
   "cell_type": "code",
   "execution_count": 7,
   "outputs": [
    {
     "name": "stdout",
     "output_type": "stream",
     "text": [
      "Пользователь billy@rambler.ru, баланс - 0\n",
      "---Your check---\n",
      "carrot 30 1 30\n",
      "lemon 20 2 40\n",
      "---Total: 70---\n",
      "---Your check---\n",
      "carrot 30 1 30\n",
      "lemon 20 5 100\n",
      "---Total: 130---\n",
      "---Your check---\n",
      "carrot 30 1 30\n",
      "---Total: 30---\n",
      "30\n",
      "---Your check---\n",
      "carrot 30 1 30\n",
      "lemon 20 5 100\n",
      "---Total: 130---\n",
      "Не хватает средств на балансе. Пополните счет\n",
      "Проблема с оплатой\n",
      "Заказ оплачен\n",
      "20\n"
     ]
    }
   ],
   "source": [
    "billy = User('billy@rambler.ru')\n",
    "\n",
    "lemon = Product('lemon', 20)\n",
    "carrot = Product('carrot', 30)\n",
    "\n",
    "cart_billy = Cart(billy)\n",
    "print(cart_billy.user) # Пользователь billy@rambler.ru, баланс - 0\n",
    "cart_billy.add(lemon, 2)\n",
    "cart_billy.add(carrot)\n",
    "cart_billy.print_check()\n",
    "''' Печатает текст ниже\n",
    "---Your check---\n",
    "carrot 30 1 30\n",
    "lemon 20 2 40\n",
    "---Total: 70---'''\n",
    "cart_billy.add(lemon, 3)\n",
    "cart_billy.print_check()\n",
    "''' Печатает текст ниже\n",
    "---Your check---\n",
    "carrot 30 1 30\n",
    "lemon 20 5 100\n",
    "---Total: 130---'''\n",
    "cart_billy.remove(lemon, 6)\n",
    "cart_billy.print_check()\n",
    "''' Печатает текст ниже\n",
    "---Your check---\n",
    "carrot 30 1 30\n",
    "---Total: 30---'''\n",
    "print(cart_billy.total) # 30\n",
    "cart_billy.add(lemon, 5)\n",
    "cart_billy.print_check()\n",
    "''' Печатает текст ниже\n",
    "---Your check---\n",
    "carrot 30 1 30\n",
    "lemon 20 5 100\n",
    "---Total: 130---'''\n",
    "cart_billy.order()\n",
    "''' Печатает текст ниже\n",
    "Не хватает средств на балансе. Пополните счет\n",
    "Проблема с оплатой'''\n",
    "cart_billy.user.deposit(150)\n",
    "cart_billy.order() # Заказ оплачен\n",
    "print(cart_billy.user.balance) # 20\n"
   ],
   "metadata": {
    "collapsed": false
   }
  },
  {
   "cell_type": "code",
   "execution_count": 119,
   "outputs": [],
   "source": [],
   "metadata": {
    "collapsed": false
   }
  },
  {
   "cell_type": "code",
   "execution_count": 88,
   "outputs": [],
   "source": [],
   "metadata": {
    "collapsed": false
   }
  }
 ],
 "metadata": {
  "kernelspec": {
   "display_name": "Python 3",
   "language": "python",
   "name": "python3"
  },
  "language_info": {
   "codemirror_mode": {
    "name": "ipython",
    "version": 2
   },
   "file_extension": ".py",
   "mimetype": "text/x-python",
   "name": "python",
   "nbconvert_exporter": "python",
   "pygments_lexer": "ipython2",
   "version": "2.7.6"
  }
 },
 "nbformat": 4,
 "nbformat_minor": 0
}
