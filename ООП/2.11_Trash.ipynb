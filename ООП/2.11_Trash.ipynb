{
 "cells": [
  {
   "cell_type": "code",
   "execution_count": 49,
   "metadata": {
    "collapsed": true
   },
   "outputs": [],
   "source": [
    "class Registration():\n",
    "    def __init__(self, login, password):\n",
    "        self.login = login\n",
    "        self.password = password\n",
    "\n",
    "    @property\n",
    "    def login(self):\n",
    "        return self.__login\n",
    "\n",
    "    @property\n",
    "    def password(self):\n",
    "        return self.__password\n",
    "\n",
    "    @login.setter\n",
    "    def login(self, value):\n",
    "        self.__login = Registration.login_validation(value)\n",
    "\n",
    "    @password.setter\n",
    "    def password(self, value):\n",
    "        self.__password = Registration.password_validation(value)\n",
    "\n",
    "    @staticmethod\n",
    "    def login_validation(login: str):\n",
    "        if not isinstance(login, str):\n",
    "            raise TypeError(\"Логин должен быть строкой\")\n",
    "        elif not login.count('@') == 1:\n",
    "            raise ValueError(\"Логин должен содержать один символ '@'\")\n",
    "        elif not '.' in login.split('@')[1]:\n",
    "            raise ValueError(\"Логин должен содержать символ '.'\")\n",
    "        else:\n",
    "            return login\n",
    "\n",
    "    @staticmethod\n",
    "    def password_validation(pwd: str):\n",
    "\n",
    "        if not isinstance(pwd, str):\n",
    "            raise TypeError(\"Пароль должен быть строкой\")\n",
    "\n",
    "        elif not 4 < len(pwd) < 12:\n",
    "            raise ValueError('Пароль должен быть длиннее 4 и меньше 12 символов')\n",
    "\n",
    "        elif not any([i.isdigit() for i in pwd]):\n",
    "            raise ValueError('Пароль должен содержать хотя бы одну цифру')\n",
    "\n",
    "        elif not (any([i.isupper() for i in pwd]) and any([i.lower() for i in pwd])):\n",
    "            raise ValueError('Пароль должен содержать хотя бы один символ верхнего и нижнего регистра')\n",
    "\n",
    "        elif not (all([i.isascii() or i.isdigit() for i in pwd])):\n",
    "            raise ValueError('Пароль должен содержать только латинский алфавит')\n",
    "        else:\n",
    "            return Registration.check_password_dictionary(pwd)\n",
    "\n",
    "    @staticmethod\n",
    "    def check_password_dictionary(pwd):\n",
    "        with open('easy_passwords.txt', 'r', encoding='utf-8') as pwds:\n",
    "            pwds = pwds.read().split()\n",
    "\n",
    "            if pwd in pwds:\n",
    "                raise ValueError('Ваш пароль содержится в списке самых легких')\n",
    "            else:\n",
    "                return pwd\n",
    "\n"
   ]
  },
  {
   "cell_type": "code",
   "execution_count": 48,
   "outputs": [],
   "source": [
    "# r1.password = '123456'  # ValueError('Пароль должен содержать хотя бы один символ верхнего и нижнего регистра')\n",
    "# r1.password = 'LoW'  # raise ValueError('Пароль должен быть длиннее 4 и меньше 12 символов')\n",
    "# r1.password = 43  # raise TypeError(\"Пароль должен быть строкой\")"
   ],
   "metadata": {
    "collapsed": false
   }
  },
  {
   "cell_type": "code",
   "execution_count": 71,
   "outputs": [],
   "source": [
    "class File():\n",
    "    def __init__(self, name):\n",
    "        self.name = name\n",
    "        self.in_trash = False\n",
    "        self.is_deleted = False\n",
    "\n",
    "    def restore_from_trash(self):\n",
    "        print(f'Файл {self.name} восстановлен из корзины')\n",
    "        self.in_trash = False\n",
    "\n",
    "    def remove(self):\n",
    "        print(f'Файл {self.name} был удален')\n",
    "        self.in_trash = False\n",
    "        self.is_deleted = True\n",
    "\n",
    "    def read(self):\n",
    "        if self.is_deleted:\n",
    "            print(f'ErrorReadFileDeleted({self.name})')\n",
    "        elif self.in_trash:\n",
    "            print(f'ErrorReadFileTrashed({self.name})')\n",
    "        else:\n",
    "            print(f'Прочитали все содержимое файла {self.name}')\n",
    "\n",
    "    def write(self, content):\n",
    "        if self.is_deleted:\n",
    "            print(f'ErrorWriteFileDeleted({self.name})')\n",
    "        elif self.in_trash:\n",
    "            print(f'ErrorWriteFileTrashed({self.name})')\n",
    "        else:\n",
    "            print(f'Записали значение {content} в файл {self.name}')\n",
    "\n",
    "\n",
    "class Trash():\n",
    "    content = []\n",
    "\n",
    "    @staticmethod\n",
    "    def add(file: object):\n",
    "        if isinstance(file, File):\n",
    "            Trash.content.append(file)\n",
    "            file.in_trash = True\n",
    "        else:\n",
    "            print('В корзину добавлять можно только файл')\n",
    "\n",
    "    @staticmethod\n",
    "    def clear():\n",
    "        print('Очищаем корзину')\n",
    "        [i.remove() for i in Trash.content]\n",
    "        Trash.content.clear()\n",
    "        print('Корзина пуста')\n",
    "\n",
    "    @staticmethod\n",
    "    def restore():\n",
    "        print('Восстанавливаем файлы из корзины')\n",
    "        [i.restore_from_trash() for i in Trash.content]\n",
    "        Trash.content.clear()\n",
    "        print('Корзина пуста')"
   ],
   "metadata": {
    "collapsed": false
   }
  },
  {
   "cell_type": "code",
   "execution_count": 72,
   "outputs": [
    {
     "name": "stdout",
     "output_type": "stream",
     "text": [
      "{'name': 'puppies.jpg', 'in_trash': False, 'is_deleted': False}\n",
      "Прочитали все содержимое файла puppies.jpg\n",
      "Файл puppies.jpg был удален\n",
      "ErrorReadFileDeleted(puppies.jpg)\n",
      "Записали значение hello в файл cat.jpg\n",
      "Файл cat.jpg был удален\n",
      "ErrorWriteFileDeleted(cat.jpg)\n"
     ]
    }
   ],
   "source": [
    "f1 = File('puppies.jpg')\n",
    "print(f1.__dict__)  # {'name': 'puppies.jpg', 'in_trash': False, 'is_deleted': False}\n",
    "f1.read()  # Прочитали все содержимое файла puppies.jpg\n",
    "f1.remove()  # Файл puppies.jpg был удален\n",
    "f1.read()  # ErrorReadFileDeleted(puppies.jpg)\n",
    "\n",
    "f2 = File('cat.jpg')\n",
    "f2.write('hello')  # Записали значение hello в файл cat.jpg\n",
    "f2.remove()  # Файл cat.jpg был удален\n",
    "f2.write('world')  # ErrorWriteFileDeleted(cat.jpg)"
   ],
   "metadata": {
    "collapsed": false
   }
  },
  {
   "cell_type": "code",
   "execution_count": 73,
   "outputs": [
    {
     "name": "stdout",
     "output_type": "stream",
     "text": [
      "Прочитали все содержимое файла puppies.jpg\n",
      "ErrorReadFileTrashed(puppies.jpg)\n",
      "Очищаем корзину\n",
      "Файл puppies.jpg был удален\n",
      "Файл cat.jpg был удален\n",
      "Файл pass.txt был удален\n",
      "Корзина пуста\n",
      "ErrorReadFileDeleted(puppies.jpg)\n"
     ]
    }
   ],
   "source": [
    "f1 = File('puppies.jpg')\n",
    "f2 = File('cat.jpg')\n",
    "passwords = File('pass.txt')\n",
    "\n",
    "f1.read() # Прочитали все содержимое файла puppies.jpg\n",
    "Trash.add(f1)\n",
    "f1.read() # ErrorReadFileTrashed(puppies.jpg)\n",
    "\n",
    "Trash.add(f2)\n",
    "Trash.add(passwords)\n",
    "Trash.clear() # после этой команды вывод должен быть таким\n",
    "'''\n",
    "Очищаем корзину\n",
    "Файл puppies.jpg был удален\n",
    "Файл cat.jpg был удален\n",
    "Файл pass.txt был удален\n",
    "Корзина пуста\n",
    "'''\n",
    "\n",
    "f1.read() # ErrorReadFileTrashed(puppies.jpg)"
   ],
   "metadata": {
    "collapsed": false
   }
  },
  {
   "cell_type": "code",
   "execution_count": null,
   "outputs": [],
   "source": [],
   "metadata": {
    "collapsed": false
   }
  }
 ],
 "metadata": {
  "kernelspec": {
   "display_name": "Python 3",
   "language": "python",
   "name": "python3"
  },
  "language_info": {
   "codemirror_mode": {
    "name": "ipython",
    "version": 2
   },
   "file_extension": ".py",
   "mimetype": "text/x-python",
   "name": "python",
   "nbconvert_exporter": "python",
   "pygments_lexer": "ipython2",
   "version": "2.7.6"
  }
 },
 "nbformat": 4,
 "nbformat_minor": 0
}
