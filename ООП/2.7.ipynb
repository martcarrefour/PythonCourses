{
 "cells": [
  {
   "cell_type": "code",
   "execution_count": 9,
   "metadata": {
    "collapsed": true
   },
   "outputs": [],
   "source": [
    "class Notebook():\n",
    "    def __init__(self, notes):\n",
    "        self._notes = notes\n",
    "\n",
    "    @property\n",
    "    def notes_list(self):\n",
    "        for i, v in enumerate(self._notes, 1):\n",
    "            print(f'{i}.{v}')\n"
   ]
  },
  {
   "cell_type": "code",
   "execution_count": 10,
   "outputs": [
    {
     "name": "stdout",
     "output_type": "stream",
     "text": [
      "1.Buy Potato\n",
      "2.Buy Carrot\n",
      "3.Wash car\n"
     ]
    }
   ],
   "source": [
    "note = Notebook(['Buy Potato', 'Buy Carrot', 'Wash car'])\n",
    "note.notes_list"
   ],
   "metadata": {
    "collapsed": false
   }
  },
  {
   "cell_type": "code",
   "execution_count": 24,
   "outputs": [],
   "source": [
    "class Money():\n",
    "    def __init__(self, dollars: int, cents: int):\n",
    "        self.total_cents = dollars * 100 + cents\n",
    "\n",
    "    @property\n",
    "    def dollars(self):\n",
    "        return self.total_cents // 100\n",
    "\n",
    "    @property\n",
    "    def cents(self):\n",
    "        return self.total_cents % 100\n",
    "\n",
    "    @dollars.setter\n",
    "    def dollars(self, value):\n",
    "        if isinstance(value, int) and value >= 0:\n",
    "            self.total_cents = value * 100 + self.cents\n",
    "        else:\n",
    "            print('Error dollars')\n",
    "\n",
    "    @cents.setter\n",
    "    def cents(self, value):\n",
    "        if isinstance(value, int) and 0 <= value < 100:\n",
    "            self.total_cents = self.dollars * 100 + value\n",
    "        else:\n",
    "            print('Error cents')\n",
    "\n",
    "    def __str__(self):\n",
    "        return (f'Ваше состояние составляет {self.dollars} долларов {self.cents} центов')"
   ],
   "metadata": {
    "collapsed": false
   }
  },
  {
   "cell_type": "code",
   "execution_count": 25,
   "outputs": [
    {
     "name": "stdout",
     "output_type": "stream",
     "text": [
      "Ваше состояние составляет 101 долларов 99 центов\n",
      "101 99\n",
      "10199\n",
      "Ваше состояние составляет 666 долларов 99 центов\n",
      "Ваше состояние составляет 666 долларов 12 центов\n"
     ]
    }
   ],
   "source": [
    "Bill = Money(101, 99)\n",
    "print(Bill)  # Ваше состояние составляет 101 долларов 99 центов\n",
    "print(Bill.dollars, Bill.cents)  # 101 99\n",
    "print(Bill.total_cents)  # 10199\n",
    "Bill.dollars = 666\n",
    "print(Bill)  # Ваше состояние составляет 666 долларов 99 центов\n",
    "Bill.cents = 12\n",
    "print(Bill)  # Ваше состояние составляет 666 долларов 12 центов"
   ],
   "metadata": {
    "collapsed": false
   }
  },
  {
   "cell_type": "code",
   "execution_count": 50,
   "outputs": [],
   "source": [
    "class Rectangle():\n",
    "    def __init__(self, l, w):\n",
    "        self.__length = l\n",
    "        self.__width = w\n",
    "        self.__area = None\n",
    "\n",
    "    @property\n",
    "    def area(self):\n",
    "        if self.__area is None:\n",
    "            self.__area = self.__length * self.__width\n",
    "        return self.__area\n",
    "\n"
   ],
   "metadata": {
    "collapsed": false
   }
  },
  {
   "cell_type": "code",
   "execution_count": 51,
   "outputs": [
    {
     "name": "stdout",
     "output_type": "stream",
     "text": [
      "15\n",
      "6\n"
     ]
    }
   ],
   "source": [
    "r1 = Rectangle(3, 5)\n",
    "r2 = Rectangle(6, 1)\n",
    "\n",
    "print(r1.area)  # 15\n",
    "print(r2.area)  # 6"
   ],
   "metadata": {
    "collapsed": false
   }
  },
  {
   "cell_type": "code",
   "execution_count": 60,
   "outputs": [],
   "source": [
    "class Date():\n",
    "    def __init__(self, d, m, y):\n",
    "        self.__day = d\n",
    "        self.__month = m\n",
    "        self.__year = y\n",
    "\n",
    "    @property\n",
    "    def date(self):\n",
    "        return f'{self.__day:02}/{self.__month:02}/{self.__year:04}'\n",
    "\n",
    "    @property\n",
    "    def usa_date(self):\n",
    "        return f'{self.__month:02}-{self.__day:02}-{self.__year:04}'\n"
   ],
   "metadata": {
    "collapsed": false
   }
  },
  {
   "cell_type": "code",
   "execution_count": 61,
   "outputs": [
    {
     "name": "stdout",
     "output_type": "stream",
     "text": [
      "05/10/2001\n",
      "10-05-2001\n",
      "15/03/0999\n",
      "03-15-0999\n"
     ]
    }
   ],
   "source": [
    "d1 = Date(5, 10, 2001)\n",
    "d2 = Date(15, 3, 999)\n",
    "\n",
    "print(d1.date)  # 05/10/2001\n",
    "print(d1.usa_date)  # 10-05-2001\n",
    "print(d2.date)  # 15/03/0999\n",
    "print(d2.usa_date)  # 03-15-0999"
   ],
   "metadata": {
    "collapsed": false
   }
  },
  {
   "cell_type": "code",
   "execution_count": 62,
   "outputs": [],
   "source": [
    "class Robot():\n",
    "    population = 0\n",
    "\n",
    "    def __init__(self, name):\n",
    "        self.name = name\n",
    "        Robot.population += 1\n",
    "        print(f'Робот {name} был создан')\n",
    "\n",
    "    def destroy(self):\n",
    "        Robot.population -= 1\n",
    "        print(f'Робот {self.name} был уничтожен')\n",
    "\n",
    "    def say_hello(self):\n",
    "        print(f'Робот {self.name} приветствует тебя, особь человеческого рода')\n",
    "\n",
    "    @classmethod\n",
    "    def how_many(cls):\n",
    "        print(f'{cls.population}, вот сколько нас еще осталось')"
   ],
   "metadata": {
    "collapsed": false
   }
  },
  {
   "cell_type": "code",
   "execution_count": 63,
   "outputs": [
    {
     "name": "stdout",
     "output_type": "stream",
     "text": [
      "Робот R2-D2 был создан\n",
      "Робот R2-D2 приветствует тебя, особь человеческого рода\n",
      "1, вот сколько нас еще осталось\n",
      "Робот R2-D2 был уничтожен\n"
     ]
    }
   ],
   "source": [
    "r2 = Robot(\"R2-D2\")  # печатает \"Робот R2-D2 был создан\"\n",
    "r2.say_hello()  # печатает \"Робот R2-D2 приветствует тебя, особь человеческого рода\"\n",
    "Robot.how_many()  # печатает \"1, вот сколько нас еще осталось\"\n",
    "r2.destroy()  # печатает \"Робот R2-D2 был уничтожен\""
   ],
   "metadata": {
    "collapsed": false
   }
  },
  {
   "cell_type": "code",
   "execution_count": 88,
   "outputs": [],
   "source": [
    "class User():\n",
    "    def __init__(self, name, role):\n",
    "        self.name = name\n",
    "        self.role = role\n",
    "\n",
    "\n",
    "class Access():\n",
    "    __access_list = ['admin', 'developer']\n",
    "\n",
    "    @staticmethod\n",
    "    def __check_access(role):\n",
    "        return role in Access.__access_list\n",
    "\n",
    "    @staticmethod\n",
    "    def get_access(user):\n",
    "        if not isinstance(user, User):\n",
    "            print(\"AccessTypeError\")\n",
    "        elif Access.__check_access(user.role):\n",
    "            print(f\"User {user.name}: success\")\n",
    "        else:\n",
    "            print(f\"AccessDenied\")"
   ],
   "metadata": {
    "collapsed": false
   }
  },
  {
   "cell_type": "code",
   "execution_count": 89,
   "outputs": [
    {
     "name": "stdout",
     "output_type": "stream",
     "text": [
      "User batya99: success\n",
      "AccessDenied\n",
      "AccessTypeError\n"
     ]
    }
   ],
   "source": [
    "user1 = User('batya99', 'admin')\n",
    "Access.get_access(user1)  # печатает \"User batya99: success\"\n",
    "\n",
    "zaya = User('milaya_zaya999', 'user')\n",
    "Access.get_access(zaya)  # печатает AccessDenied\n",
    "\n",
    "Access.get_access(5)  # печатает AccessTypeError"
   ],
   "metadata": {
    "collapsed": false
   }
  },
  {
   "cell_type": "code",
   "execution_count": null,
   "outputs": [],
   "source": [],
   "metadata": {
    "collapsed": false,
    "pycharm": {
     "is_executing": true
    }
   }
  },
  {
   "cell_type": "code",
   "execution_count": 83,
   "outputs": [],
   "source": [],
   "metadata": {
    "collapsed": false
   }
  }
 ],
 "metadata": {
  "kernelspec": {
   "display_name": "Python 3",
   "language": "python",
   "name": "python3"
  },
  "language_info": {
   "codemirror_mode": {
    "name": "ipython",
    "version": 2
   },
   "file_extension": ".py",
   "mimetype": "text/x-python",
   "name": "python",
   "nbconvert_exporter": "python",
   "pygments_lexer": "ipython2",
   "version": "2.7.6"
  }
 },
 "nbformat": 4,
 "nbformat_minor": 0
}
